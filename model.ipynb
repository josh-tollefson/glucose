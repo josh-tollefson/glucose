{
 "cells": [
  {
   "cell_type": "code",
   "execution_count": 1,
   "metadata": {},
   "outputs": [],
   "source": [
    "import numpy as np\n",
    "import pandas as pd\n",
    "import matplotlib.pyplot as plt\n",
    "\n",
    "from sklearn.model_selection import train_test_split\n",
    "import imblearn\n",
    "from imblearn.over_sampling import SMOTE \n",
    "\n",
    "from sklearn.linear_model import LogisticRegression\n",
    "from sklearn.ensemble import RandomForestClassifier\n",
    "from sklearn.metrics import classification_report, confusion_matrix\n",
    "from sklearn.metrics import plot_confusion_matrix\n",
    "from sklearn.metrics import roc_curve, auc\n",
    "\n",
    "from sklearn.pipeline import make_pipeline\n",
    "from sklearn.preprocessing import StandardScaler\n",
    "from sklearn.svm import SVC\n",
    "\n"
   ]
  },
  {
   "cell_type": "code",
   "execution_count": 2,
   "metadata": {},
   "outputs": [],
   "source": [
    "seed=42"
   ]
  },
  {
   "cell_type": "code",
   "execution_count": 3,
   "metadata": {},
   "outputs": [
    {
     "data": {
      "text/html": [
       "<div>\n",
       "<style scoped>\n",
       "    .dataframe tbody tr th:only-of-type {\n",
       "        vertical-align: middle;\n",
       "    }\n",
       "\n",
       "    .dataframe tbody tr th {\n",
       "        vertical-align: top;\n",
       "    }\n",
       "\n",
       "    .dataframe thead th {\n",
       "        text-align: right;\n",
       "    }\n",
       "</style>\n",
       "<table border=\"1\" class=\"dataframe\">\n",
       "  <thead>\n",
       "    <tr style=\"text-align: right;\">\n",
       "      <th></th>\n",
       "      <th>15</th>\n",
       "      <th>20</th>\n",
       "      <th>25</th>\n",
       "      <th>30</th>\n",
       "      <th>35</th>\n",
       "      <th>40</th>\n",
       "      <th>45</th>\n",
       "      <th>Low</th>\n",
       "    </tr>\n",
       "  </thead>\n",
       "  <tbody>\n",
       "    <tr>\n",
       "      <th>5</th>\n",
       "      <td>0.309038</td>\n",
       "      <td>0.311953</td>\n",
       "      <td>0.276968</td>\n",
       "      <td>0.276968</td>\n",
       "      <td>0.276968</td>\n",
       "      <td>0.276968</td>\n",
       "      <td>0.276968</td>\n",
       "      <td>0.0</td>\n",
       "    </tr>\n",
       "    <tr>\n",
       "      <th>6</th>\n",
       "      <td>0.309038</td>\n",
       "      <td>0.311953</td>\n",
       "      <td>0.276968</td>\n",
       "      <td>0.233236</td>\n",
       "      <td>0.233236</td>\n",
       "      <td>0.233236</td>\n",
       "      <td>0.233236</td>\n",
       "      <td>0.0</td>\n",
       "    </tr>\n",
       "    <tr>\n",
       "      <th>7</th>\n",
       "      <td>0.309038</td>\n",
       "      <td>0.309038</td>\n",
       "      <td>0.311953</td>\n",
       "      <td>0.276968</td>\n",
       "      <td>0.233236</td>\n",
       "      <td>0.233236</td>\n",
       "      <td>0.233236</td>\n",
       "      <td>0.0</td>\n",
       "    </tr>\n",
       "    <tr>\n",
       "      <th>8</th>\n",
       "      <td>0.309038</td>\n",
       "      <td>0.309038</td>\n",
       "      <td>0.311953</td>\n",
       "      <td>0.276968</td>\n",
       "      <td>0.233236</td>\n",
       "      <td>0.233236</td>\n",
       "      <td>0.233236</td>\n",
       "      <td>0.0</td>\n",
       "    </tr>\n",
       "    <tr>\n",
       "      <th>9</th>\n",
       "      <td>0.309038</td>\n",
       "      <td>0.311953</td>\n",
       "      <td>0.276968</td>\n",
       "      <td>0.233236</td>\n",
       "      <td>0.183673</td>\n",
       "      <td>0.183673</td>\n",
       "      <td>0.183673</td>\n",
       "      <td>0.0</td>\n",
       "    </tr>\n",
       "  </tbody>\n",
       "</table>\n",
       "</div>"
      ],
      "text/plain": [
       "         15        20        25        30        35        40        45  Low\n",
       "5  0.309038  0.311953  0.276968  0.276968  0.276968  0.276968  0.276968  0.0\n",
       "6  0.309038  0.311953  0.276968  0.233236  0.233236  0.233236  0.233236  0.0\n",
       "7  0.309038  0.309038  0.311953  0.276968  0.233236  0.233236  0.233236  0.0\n",
       "8  0.309038  0.309038  0.311953  0.276968  0.233236  0.233236  0.233236  0.0\n",
       "9  0.309038  0.311953  0.276968  0.233236  0.183673  0.183673  0.183673  0.0"
      ]
     },
     "execution_count": 3,
     "metadata": {},
     "output_type": "execute_result"
    }
   ],
   "source": [
    "infile = './processed/CLARITY_Export_2021-01-28_222148_min15_max45.csv'\n",
    "df = pd.read_csv(infile)\n",
    "df.dropna(inplace=True)\n",
    "df.head()"
   ]
  },
  {
   "cell_type": "code",
   "execution_count": null,
   "metadata": {},
   "outputs": [],
   "source": []
  },
  {
   "cell_type": "code",
   "execution_count": 7,
   "metadata": {},
   "outputs": [
    {
     "data": {
      "text/plain": [
       "0.0    24961\n",
       "1.0     1886\n",
       "Name: Low, dtype: int64"
      ]
     },
     "execution_count": 7,
     "metadata": {},
     "output_type": "execute_result"
    }
   ],
   "source": [
    "df['Low'].value_counts()"
   ]
  },
  {
   "cell_type": "markdown",
   "metadata": {},
   "source": [
    "Classes imablanced (25000+ 0 / Not Low vs 1886 1 / Low), so try SMOTE Over and Undersampling"
   ]
  },
  {
   "cell_type": "code",
   "execution_count": 9,
   "metadata": {},
   "outputs": [],
   "source": [
    "train, test = train_test_split(df, test_size=0.2, random_state=seed)\n",
    "train_x = train.iloc[:,0:-1]\n",
    "test_x = test.iloc[:,0:-1]\n",
    "\n",
    "train_y = train.iloc[:,-1]\n",
    "test_y = test.iloc[:,-1]"
   ]
  },
  {
   "cell_type": "code",
   "execution_count": 10,
   "metadata": {},
   "outputs": [],
   "source": [
    "sm = SMOTE(random_state=seed)\n",
    "\n",
    "res_x, res_y = sm.fit_resample(train_x, train_y) ### Resample training set"
   ]
  },
  {
   "cell_type": "code",
   "execution_count": 11,
   "metadata": {},
   "outputs": [
    {
     "data": {
      "image/png": "[encoded data removed]",
      "text/plain": [
       "<Figure size 432x288 with 2 Axes>"
      ]
     },
     "metadata": {
      "needs_background": "light"
     },
     "output_type": "display_data"
    }
   ],
   "source": [
    "model = LogisticRegression().fit(res_x, res_y)\n",
    "\n",
    "probs = model.predict_proba(test_x)\n",
    "preds = probs[:,1]\n",
    "\n",
    "class_names = ['Not Low Glucose', 'Low Glucose']\n",
    "disp = plot_confusion_matrix(model, \n",
    "                             test_x, \n",
    "                             test_y,\n",
    "                             display_labels=class_names,\n",
    "                             cmap=plt.cm.Blues)\n"
   ]
  },
  {
   "cell_type": "code",
   "execution_count": 12,
   "metadata": {},
   "outputs": [
    {
     "data": {
      "image/png": "[encoded data removed]",
      "text/plain": [
       "<Figure size 432x288 with 1 Axes>"
      ]
     },
     "metadata": {
      "needs_background": "light"
     },
     "output_type": "display_data"
    }
   ],
   "source": [
    "fpr, tpr, threshold = roc_curve(test_y, preds)\n",
    "roc_auc = auc(fpr, tpr)\n",
    "\n",
    "plt.title('Receiver Operating Characteristic')\n",
    "plt.plot(fpr, tpr, 'b', label = 'AUC = %0.2f' % roc_auc)\n",
    "plt.legend(loc = 'lower right')\n",
    "plt.plot([0, 1], [0, 1],'r--')\n",
    "plt.xlim([0, 1])\n",
    "plt.ylim([0, 1])\n",
    "plt.ylabel('True Positive Rate')\n",
    "plt.xlabel('False Positive Rate')\n",
    "plt.show()"
   ]
  },
  {
   "cell_type": "code",
   "execution_count": 13,
   "metadata": {},
   "outputs": [
    {
     "data": {
      "image/png": "[encoded data removed]",
      "text/plain": [
       "<Figure size 432x288 with 2 Axes>"
      ]
     },
     "metadata": {
      "needs_background": "light"
     },
     "output_type": "display_data"
    }
   ],
   "source": [
    "clf = make_pipeline(StandardScaler(), SVC(gamma='auto'))\n",
    "clf.fit(res_x, res_y)\n",
    "\n",
    "disp = plot_confusion_matrix(clf, \n",
    "                             test_x, \n",
    "                             test_y,\n",
    "                             display_labels=class_names,\n",
    "                             cmap=plt.cm.Blues)\n"
   ]
  },
  {
   "cell_type": "markdown",
   "metadata": {},
   "source": [
    "Undersample the majority class"
   ]
  },
  {
   "cell_type": "code",
   "execution_count": 14,
   "metadata": {},
   "outputs": [],
   "source": [
    "low = df[df['Low'] == 1.0]\n",
    "not_low = df[df['Low'] == 0.0].sample(n = 1292, random_state=seed)\n",
    "\n",
    "df_us = low.append(not_low)"
   ]
  },
  {
   "cell_type": "code",
   "execution_count": 15,
   "metadata": {},
   "outputs": [],
   "source": [
    "### Train on undersampled set\n",
    "train, test = train_test_split(df_us, test_size=0.2, random_state=seed)\n",
    "train_x = train.iloc[:,0:-1]\n",
    "train_y = train.iloc[:,-1]\n",
    "\n",
    "test_x = test.iloc[:,0:-1]\n",
    "test_y = test.iloc[:,-1]\n"
   ]
  },
  {
   "cell_type": "code",
   "execution_count": 16,
   "metadata": {},
   "outputs": [
    {
     "data": {
      "image/png": "[encoded data removed]",
      "text/plain": [
       "<Figure size 432x288 with 2 Axes>"
      ]
     },
     "metadata": {
      "needs_background": "light"
     },
     "output_type": "display_data"
    }
   ],
   "source": [
    "model = LogisticRegression().fit(train_x, train_y)\n",
    "\n",
    "probs = model.predict_proba(test_x)\n",
    "preds = probs[:,1]\n",
    "\n",
    "class_names = ['Not Low Glucose', 'Low Glucose']\n",
    "disp = plot_confusion_matrix(model, \n",
    "                             test_x, \n",
    "                             test_y,\n",
    "                             display_labels=class_names,\n",
    "                             cmap=plt.cm.Blues)\n"
   ]
  },
  {
   "cell_type": "code",
   "execution_count": 17,
   "metadata": {},
   "outputs": [
    {
     "data": {
      "image/png": "[encoded data removed]",
      "text/plain": [
       "<Figure size 432x288 with 1 Axes>"
      ]
     },
     "metadata": {
      "needs_background": "light"
     },
     "output_type": "display_data"
    }
   ],
   "source": [
    "fpr, tpr, threshold = roc_curve(test_y, preds)\n",
    "roc_auc = auc(fpr, tpr)\n",
    "\n",
    "plt.title('Receiver Operating Characteristic')\n",
    "plt.plot(fpr, tpr, 'b', label = 'AUC = %0.2f' % roc_auc)\n",
    "plt.legend(loc = 'lower right')\n",
    "plt.plot([0, 1], [0, 1],'r--')\n",
    "plt.xlim([0, 1])\n",
    "plt.ylim([0, 1])\n",
    "plt.ylabel('True Positive Rate')\n",
    "plt.xlabel('False Positive Rate')\n",
    "plt.show()"
   ]
  },
  {
   "cell_type": "markdown",
   "metadata": {},
   "source": [
    "Repeat but on different time interval"
   ]
  },
  {
   "cell_type": "code",
   "execution_count": 20,
   "metadata": {},
   "outputs": [
    {
     "data": {
      "text/html": [
       "<div>\n",
       "<style scoped>\n",
       "    .dataframe tbody tr th:only-of-type {\n",
       "        vertical-align: middle;\n",
       "    }\n",
       "\n",
       "    .dataframe tbody tr th {\n",
       "        vertical-align: top;\n",
       "    }\n",
       "\n",
       "    .dataframe thead th {\n",
       "        text-align: right;\n",
       "    }\n",
       "</style>\n",
       "<table border=\"1\" class=\"dataframe\">\n",
       "  <thead>\n",
       "    <tr style=\"text-align: right;\">\n",
       "      <th></th>\n",
       "      <th>30</th>\n",
       "      <th>35</th>\n",
       "      <th>40</th>\n",
       "      <th>45</th>\n",
       "      <th>50</th>\n",
       "      <th>55</th>\n",
       "      <th>60</th>\n",
       "      <th>Low</th>\n",
       "    </tr>\n",
       "  </thead>\n",
       "  <tbody>\n",
       "    <tr>\n",
       "      <th>9</th>\n",
       "      <td>0.309038</td>\n",
       "      <td>0.311953</td>\n",
       "      <td>0.311953</td>\n",
       "      <td>0.311953</td>\n",
       "      <td>0.311953</td>\n",
       "      <td>0.311953</td>\n",
       "      <td>0.311953</td>\n",
       "      <td>0.0</td>\n",
       "    </tr>\n",
       "    <tr>\n",
       "      <th>10</th>\n",
       "      <td>0.309038</td>\n",
       "      <td>0.311953</td>\n",
       "      <td>0.276968</td>\n",
       "      <td>0.233236</td>\n",
       "      <td>0.183673</td>\n",
       "      <td>0.183673</td>\n",
       "      <td>0.183673</td>\n",
       "      <td>0.0</td>\n",
       "    </tr>\n",
       "    <tr>\n",
       "      <th>11</th>\n",
       "      <td>0.309038</td>\n",
       "      <td>0.311953</td>\n",
       "      <td>0.276968</td>\n",
       "      <td>0.233236</td>\n",
       "      <td>0.183673</td>\n",
       "      <td>0.163265</td>\n",
       "      <td>0.163265</td>\n",
       "      <td>0.0</td>\n",
       "    </tr>\n",
       "    <tr>\n",
       "      <th>12</th>\n",
       "      <td>0.309038</td>\n",
       "      <td>0.311953</td>\n",
       "      <td>0.276968</td>\n",
       "      <td>0.233236</td>\n",
       "      <td>0.183673</td>\n",
       "      <td>0.163265</td>\n",
       "      <td>0.128280</td>\n",
       "      <td>0.0</td>\n",
       "    </tr>\n",
       "    <tr>\n",
       "      <th>13</th>\n",
       "      <td>0.311953</td>\n",
       "      <td>0.233236</td>\n",
       "      <td>0.183673</td>\n",
       "      <td>0.163265</td>\n",
       "      <td>0.128280</td>\n",
       "      <td>0.259475</td>\n",
       "      <td>0.259475</td>\n",
       "      <td>0.0</td>\n",
       "    </tr>\n",
       "  </tbody>\n",
       "</table>\n",
       "</div>"
      ],
      "text/plain": [
       "          30        35        40        45        50        55        60  Low\n",
       "9   0.309038  0.311953  0.311953  0.311953  0.311953  0.311953  0.311953  0.0\n",
       "10  0.309038  0.311953  0.276968  0.233236  0.183673  0.183673  0.183673  0.0\n",
       "11  0.309038  0.311953  0.276968  0.233236  0.183673  0.163265  0.163265  0.0\n",
       "12  0.309038  0.311953  0.276968  0.233236  0.183673  0.163265  0.128280  0.0\n",
       "13  0.311953  0.233236  0.183673  0.163265  0.128280  0.259475  0.259475  0.0"
      ]
     },
     "execution_count": 20,
     "metadata": {},
     "output_type": "execute_result"
    }
   ],
   "source": [
    "infile = './processed/CLARITY_Export_2021-01-28_222148_min30_max60.csv'\n",
    "df = pd.read_csv(infile)\n",
    "df.dropna(inplace=True)\n",
    "df.head()"
   ]
  },
  {
   "cell_type": "code",
   "execution_count": 21,
   "metadata": {},
   "outputs": [],
   "source": [
    "train, test = train_test_split(df, test_size=0.2, random_state=seed)\n",
    "train_x = train.iloc[:,0:-1]\n",
    "test_x = test.iloc[:,0:-1]\n",
    "\n",
    "train_y = train.iloc[:,-1]\n",
    "test_y = test.iloc[:,-1]"
   ]
  },
  {
   "cell_type": "code",
   "execution_count": 22,
   "metadata": {},
   "outputs": [],
   "source": [
    "sm = SMOTE(random_state=seed)\n",
    "\n",
    "res_x, res_y = sm.fit_resample(train_x, train_y) ### Resample training set"
   ]
  },
  {
   "cell_type": "code",
   "execution_count": 23,
   "metadata": {},
   "outputs": [
    {
     "data": {
      "image/png": "[encoded data removed]",
      "text/plain": [
       "<Figure size 432x288 with 2 Axes>"
      ]
     },
     "metadata": {
      "needs_background": "light"
     },
     "output_type": "display_data"
    }
   ],
   "source": [
    "model = LogisticRegression().fit(res_x, res_y)\n",
    "\n",
    "probs = model.predict_proba(test_x)\n",
    "preds = probs[:,1]\n",
    "\n",
    "class_names = ['Not Low Glucose', 'Low Glucose']\n",
    "disp = plot_confusion_matrix(model, \n",
    "                             test_x, \n",
    "                             test_y,\n",
    "                             display_labels=class_names,\n",
    "                             cmap=plt.cm.Blues)"
   ]
  },
  {
   "cell_type": "markdown",
   "metadata": {},
   "source": [
    "False positive rate is much worse when extrapolate lows when using data that are further back in time. Need to determine what an appropriate cutoff is."
   ]
  },
  {
   "cell_type": "markdown",
   "metadata": {},
   "source": [
    "What if we use a longer time interval for extrapolation?"
   ]
  },
  {
   "cell_type": "code",
   "execution_count": 3,
   "metadata": {},
   "outputs": [
    {
     "data": {
      "text/html": [
       "<div>\n",
       "<style scoped>\n",
       "    .dataframe tbody tr th:only-of-type {\n",
       "        vertical-align: middle;\n",
       "    }\n",
       "\n",
       "    .dataframe tbody tr th {\n",
       "        vertical-align: top;\n",
       "    }\n",
       "\n",
       "    .dataframe thead th {\n",
       "        text-align: right;\n",
       "    }\n",
       "</style>\n",
       "<table border=\"1\" class=\"dataframe\">\n",
       "  <thead>\n",
       "    <tr style=\"text-align: right;\">\n",
       "      <th></th>\n",
       "      <th>15</th>\n",
       "      <th>20</th>\n",
       "      <th>25</th>\n",
       "      <th>30</th>\n",
       "      <th>35</th>\n",
       "      <th>40</th>\n",
       "      <th>45</th>\n",
       "      <th>50</th>\n",
       "      <th>55</th>\n",
       "      <th>60</th>\n",
       "      <th>Low</th>\n",
       "    </tr>\n",
       "  </thead>\n",
       "  <tbody>\n",
       "    <tr>\n",
       "      <th>26854</th>\n",
       "      <td>-0.510934</td>\n",
       "      <td>-0.510934</td>\n",
       "      <td>-0.510934</td>\n",
       "      <td>-0.510934</td>\n",
       "      <td>-0.510934</td>\n",
       "      <td>-2.840286</td>\n",
       "      <td>-2.840286</td>\n",
       "      <td>-2.840286</td>\n",
       "      <td>-2.840286</td>\n",
       "      <td>-2.840286</td>\n",
       "      <td>0.0</td>\n",
       "    </tr>\n",
       "    <tr>\n",
       "      <th>26855</th>\n",
       "      <td>0.294770</td>\n",
       "      <td>0.294770</td>\n",
       "      <td>-0.045081</td>\n",
       "      <td>-0.300523</td>\n",
       "      <td>-0.300523</td>\n",
       "      <td>-0.300523</td>\n",
       "      <td>-0.300523</td>\n",
       "      <td>-0.300523</td>\n",
       "      <td>-0.300523</td>\n",
       "      <td>-0.300523</td>\n",
       "      <td>0.0</td>\n",
       "    </tr>\n",
       "    <tr>\n",
       "      <th>26856</th>\n",
       "      <td>0.294770</td>\n",
       "      <td>0.294770</td>\n",
       "      <td>0.294770</td>\n",
       "      <td>-0.045081</td>\n",
       "      <td>-0.300523</td>\n",
       "      <td>-0.300523</td>\n",
       "      <td>-0.300523</td>\n",
       "      <td>-0.300523</td>\n",
       "      <td>-0.300523</td>\n",
       "      <td>-0.300523</td>\n",
       "      <td>0.0</td>\n",
       "    </tr>\n",
       "    <tr>\n",
       "      <th>26857</th>\n",
       "      <td>0.294770</td>\n",
       "      <td>0.294770</td>\n",
       "      <td>0.294770</td>\n",
       "      <td>0.294770</td>\n",
       "      <td>-0.045081</td>\n",
       "      <td>-0.300523</td>\n",
       "      <td>-0.300523</td>\n",
       "      <td>-0.300523</td>\n",
       "      <td>-0.300523</td>\n",
       "      <td>-0.300523</td>\n",
       "      <td>0.0</td>\n",
       "    </tr>\n",
       "    <tr>\n",
       "      <th>26858</th>\n",
       "      <td>1.010631</td>\n",
       "      <td>1.010631</td>\n",
       "      <td>0.294770</td>\n",
       "      <td>0.294770</td>\n",
       "      <td>0.294770</td>\n",
       "      <td>-0.045081</td>\n",
       "      <td>-0.300523</td>\n",
       "      <td>-0.300523</td>\n",
       "      <td>-0.300523</td>\n",
       "      <td>-0.300523</td>\n",
       "      <td>0.0</td>\n",
       "    </tr>\n",
       "  </tbody>\n",
       "</table>\n",
       "</div>"
      ],
      "text/plain": [
       "             15        20        25        30        35        40        45  \\\n",
       "26854 -0.510934 -0.510934 -0.510934 -0.510934 -0.510934 -2.840286 -2.840286   \n",
       "26855  0.294770  0.294770 -0.045081 -0.300523 -0.300523 -0.300523 -0.300523   \n",
       "26856  0.294770  0.294770  0.294770 -0.045081 -0.300523 -0.300523 -0.300523   \n",
       "26857  0.294770  0.294770  0.294770  0.294770 -0.045081 -0.300523 -0.300523   \n",
       "26858  1.010631  1.010631  0.294770  0.294770  0.294770 -0.045081 -0.300523   \n",
       "\n",
       "             50        55        60  Low  \n",
       "26854 -2.840286 -2.840286 -2.840286  0.0  \n",
       "26855 -0.300523 -0.300523 -0.300523  0.0  \n",
       "26856 -0.300523 -0.300523 -0.300523  0.0  \n",
       "26857 -0.300523 -0.300523 -0.300523  0.0  \n",
       "26858 -0.300523 -0.300523 -0.300523  0.0  "
      ]
     },
     "execution_count": 3,
     "metadata": {},
     "output_type": "execute_result"
    }
   ],
   "source": [
    "infile = './processed/CLARITY_Export_2021-03-01_min15_max60.csv'\n",
    "df = pd.read_csv(infile)\n",
    "df.dropna(inplace=True)\n",
    "df.tail()"
   ]
  },
  {
   "cell_type": "code",
   "execution_count": 48,
   "metadata": {},
   "outputs": [
    {
     "data": {
      "text/plain": [
       "array([[<matplotlib.axes._subplots.AxesSubplot object at 0x00000279F9FB8888>]],\n",
       "      dtype=object)"
      ]
     },
     "execution_count": 48,
     "metadata": {},
     "output_type": "execute_result"
    },
    {
     "data": {
      "image/png": "[encoded data removed]",
      "text/plain": [
       "<Figure size 432x288 with 1 Axes>"
      ]
     },
     "metadata": {
      "needs_background": "light"
     },
     "output_type": "display_data"
    }
   ],
   "source": [
    "df.hist(column='30', bins=30)"
   ]
  },
  {
   "cell_type": "code",
   "execution_count": 49,
   "metadata": {},
   "outputs": [],
   "source": [
    "train, test = train_test_split(df, test_size=0.2, random_state=seed)\n",
    "train_x = train.iloc[:,0:-1]\n",
    "test_x = test.iloc[:,0:-1]\n",
    "\n",
    "train_y = train.iloc[:,-1]\n",
    "test_y = test.iloc[:,-1]"
   ]
  },
  {
   "cell_type": "code",
   "execution_count": 50,
   "metadata": {},
   "outputs": [],
   "source": [
    "sm = SMOTE(random_state=seed)\n",
    "\n",
    "res_x, res_y = sm.fit_resample(train_x, train_y) ### Resample training set"
   ]
  },
  {
   "cell_type": "code",
   "execution_count": 51,
   "metadata": {},
   "outputs": [
    {
     "data": {
      "image/png": "[encoded data removed]",
      "text/plain": [
       "<Figure size 432x288 with 2 Axes>"
      ]
     },
     "metadata": {
      "needs_background": "light"
     },
     "output_type": "display_data"
    }
   ],
   "source": [
    "model = RandomForestClassifier(min_samples_leaf=20).fit(res_x, res_y)\n",
    "\n",
    "probs = model.predict_proba(test_x)\n",
    "preds = probs[:,1]\n",
    "\n",
    "class_names = ['Not Low Glucose', 'Low Glucose']\n",
    "disp = plot_confusion_matrix(model, \n",
    "                             test_x, \n",
    "                             test_y,\n",
    "                             display_labels=class_names,\n",
    "                             cmap=plt.cm.Blues)"
   ]
  },
  {
   "cell_type": "code",
   "execution_count": 52,
   "metadata": {},
   "outputs": [
    {
     "data": {
      "image/png": "[encoded data removed]",
      "text/plain": [
       "<Figure size 432x288 with 2 Axes>"
      ]
     },
     "metadata": {
      "needs_background": "light"
     },
     "output_type": "display_data"
    }
   ],
   "source": [
    "model = LogisticRegression().fit(res_x, res_y)\n",
    "\n",
    "probs = model.predict_proba(test_x)\n",
    "preds = probs[:,1]\n",
    "\n",
    "class_names = ['Not Low Glucose', 'Low Glucose']\n",
    "disp = plot_confusion_matrix(model, \n",
    "                             test_x, \n",
    "                             test_y,\n",
    "                             display_labels=class_names,\n",
    "                             cmap=plt.cm.Blues)"
   ]
  },
  {
   "cell_type": "markdown",
   "metadata": {},
   "source": [
    "What causes the high false positive rate?\n",
    "\n",
    "First guess: maybe duplicated/interpolated values "
   ]
  },
  {
   "cell_type": "code",
   "execution_count": 53,
   "metadata": {},
   "outputs": [],
   "source": [
    "def get_pred_rows(test_y, preds, df):\n",
    "    \n",
    "    idxs = test_y.iloc[preds > 0.5].index ### positive predictions (i.e., Low predictions)\n",
    "\n",
    "    return df.iloc[idxs]"
   ]
  },
  {
   "cell_type": "code",
   "execution_count": 54,
   "metadata": {},
   "outputs": [],
   "source": [
    "df_positive = get_pred_rows(test_y, preds, df)"
   ]
  },
  {
   "cell_type": "code",
   "execution_count": 55,
   "metadata": {},
   "outputs": [
    {
     "name": "stderr",
     "output_type": "stream",
     "text": [
      "C:\\Users\\Josh\\anaconda3\\lib\\site-packages\\ipykernel_launcher.py:5: SettingWithCopyWarning: \n",
      "A value is trying to be set on a copy of a slice from a DataFrame.\n",
      "Try using .loc[row_indexer,col_indexer] = value instead\n",
      "\n",
      "See the caveats in the documentation: https://pandas.pydata.org/pandas-docs/stable/user_guide/indexing.html#returning-a-view-versus-a-copy\n",
      "  \"\"\"\n"
     ]
    },
    {
     "data": {
      "text/plain": [
       "array([<matplotlib.axes._subplots.AxesSubplot object at 0x00000279F87A6808>,\n",
       "       <matplotlib.axes._subplots.AxesSubplot object at 0x00000279F87BCD48>],\n",
       "      dtype=object)"
      ]
     },
     "execution_count": 55,
     "metadata": {},
     "output_type": "execute_result"
    },
    {
     "data": {
      "image/png": "[encoded data removed]",
      "text/plain": [
       "<Figure size 432x288 with 2 Axes>"
      ]
     },
     "metadata": {
      "needs_background": "light"
     },
     "output_type": "display_data"
    }
   ],
   "source": [
    "try:\n",
    "    df_positive.drop(columns='num_uniq', inplace=True)\n",
    "    df_positive['num_uniq'] = df_positive.apply(pd.Series.nunique, axis=1)\n",
    "except KeyError:\n",
    "    df_positive['num_uniq'] = df_positive.apply(pd.Series.nunique, axis=1)\n",
    "\n",
    "    \n",
    "df_positive.tail()\n",
    "df_positive.hist(column='num_uniq', by='Low')"
   ]
  },
  {
   "cell_type": "code",
   "execution_count": 4,
   "metadata": {},
   "outputs": [
    {
     "name": "stdout",
     "output_type": "stream",
     "text": [
      "1.0\n",
      "15   -1.309473\n",
      "20   -1.210584\n",
      "25   -1.115475\n",
      "30   -1.084563\n",
      "35   -1.146776\n",
      "40   -1.276071\n",
      "45   -1.594169\n",
      "50   -2.003016\n",
      "55   -2.285021\n",
      "60   -2.093513\n",
      "Name: 2050, dtype: float64\n",
      "-1.6061394082191613\n"
     ]
    },
    {
     "data": {
      "image/png": "[encoded data removed]",
      "text/plain": [
       "<Figure size 432x288 with 1 Axes>"
      ]
     },
     "metadata": {
      "needs_background": "light"
     },
     "output_type": "display_data"
    }
   ],
   "source": [
    "from scipy.interpolate import interp1d\n",
    "\n",
    "ind = 2050\n",
    "columns = df.columns[0:-1].astype(int)\n",
    "\n",
    "print(df.iloc[ind, -1])\n",
    "f = interp1d(columns, df.iloc[ind, 0:-1], kind='slinear', fill_value='extrapolate')\n",
    "print(df.iloc[ind, 0:-1])\n",
    "plt.scatter(columns, df.iloc[ind, 0:-1])\n",
    "plt.plot(np.linspace(60, 0, 30), f(np.linspace(60, 0, 30)))\n",
    "print(f(0))"
   ]
  },
  {
   "cell_type": "raw",
   "metadata": {},
   "source": []
  },
  {
   "cell_type": "code",
   "execution_count": 5,
   "metadata": {},
   "outputs": [],
   "source": [
    "infile = './processed/CLARITY_Export_2021-03-01_min15_max60_raw.csv'\n",
    "df = pd.read_csv(infile)\n",
    "df.dropna(inplace=True)\n"
   ]
  },
  {
   "cell_type": "code",
   "execution_count": 67,
   "metadata": {},
   "outputs": [
    {
     "name": "stdout",
     "output_type": "stream",
     "text": [
      "1.0\n",
      "15    74.0\n",
      "20    76.0\n",
      "25    76.0\n",
      "30    78.0\n",
      "35    78.0\n",
      "40    79.0\n",
      "45    81.0\n",
      "50    81.0\n",
      "55    83.0\n",
      "60    83.0\n",
      "Name: 161, dtype: float64\n",
      "68.0\n"
     ]
    },
    {
     "data": {
      "image/png": "[encoded data removed]",
      "text/plain": [
       "<Figure size 432x288 with 1 Axes>"
      ]
     },
     "metadata": {
      "needs_background": "light"
     },
     "output_type": "display_data"
    }
   ],
   "source": [
    "from scipy.interpolate import interp1d\n",
    "\n",
    "ind = 161\n",
    "columns = df.columns[0:-1].astype(int)\n",
    "\n",
    "print(df.iloc[ind, -1])\n",
    "f = interp1d(columns, df.iloc[ind, 0:-1], kind='slinear', fill_value='extrapolate')\n",
    "print(df.iloc[ind, 0:-1])\n",
    "plt.scatter(columns, df.iloc[ind, 0:-1])\n",
    "plt.plot(np.linspace(60, 0, 30), f(np.linspace(60, 0, 30)))\n",
    "print(f(0))"
   ]
  },
  {
   "cell_type": "code",
   "execution_count": 54,
   "metadata": {},
   "outputs": [],
   "source": [
    "from scipy.interpolate import interp1d\n",
    "\n",
    "def interp_glucose(times, values, kind='slinear'):\n",
    "    \n",
    "    f = interp1d(times, values, kind=kind, fill_value='extrapolate')\n",
    "    return f(0)"
   ]
  },
  {
   "cell_type": "code",
   "execution_count": 57,
   "metadata": {},
   "outputs": [],
   "source": [
    "preds = []\n",
    "columns = df.columns[0:-1].astype(int)\n",
    "\n",
    "for i in range(df.shape[0]):\n",
    "    pred = interp_glucose(columns, df.iloc[i, 0:-1], kind='slinear')\n",
    "    if pred <= 70:\n",
    "        preds.append(1.0)\n",
    "    else:\n",
    "        preds.append(0.0)"
   ]
  },
  {
   "cell_type": "code",
   "execution_count": 58,
   "metadata": {},
   "outputs": [
    {
     "name": "stdout",
     "output_type": "stream",
     "text": [
      "True Positive Rate: 0.76\n",
      "True Negative Rate: 0.95\n",
      "False Positive Rate: 0.05\n",
      "False Negative Rate: 0.24\n"
     ]
    }
   ],
   "source": [
    "matching_1 = np.where( (preds == df[\"Low\"]) & (df[\"Low\"] == 1.0) )\n",
    "print( 'True Positive Rate: {:.2f}'.format(len(matching_1[0]) / df[df[\"Low\"] == 1.0].shape[0] ))\n",
    "\n",
    "matching_0 = np.where( (preds == df[\"Low\"]) & (df[\"Low\"] == 0.0) )\n",
    "print(  'True Negative Rate: {:.2f}'.format(len(matching_0[0]) / df[df[\"Low\"] == 0.0].shape[0] ))\n",
    "\n",
    "mismatch_fp = np.where( (preds != df[\"Low\"]) & (df[\"Low\"] == 0.0) )\n",
    "print(  'False Positive Rate: {:.2f}'.format(len(mismatch_fp[0]) / df[df[\"Low\"] == 0.0].shape[0] ))\n",
    "\n",
    "mismatch_fn = np.where( (preds != df[\"Low\"]) & (df[\"Low\"] == 1.0) )\n",
    "print(  'False Negative Rate: {:.2f}'.format(len(mismatch_fn[0]) / df[df[\"Low\"] == 1.0].shape[0]) )"
   ]
  },
  {
   "cell_type": "code",
   "execution_count": 38,
   "metadata": {},
   "outputs": [],
   "source": [
    "train, test = train_test_split(df, test_size=0.2, random_state=seed)\n",
    "train_x = train.iloc[:,0:-1]\n",
    "test_x = test.iloc[:,0:-1]\n",
    "\n",
    "train_y = train.iloc[:,-1]\n",
    "test_y = test.iloc[:,-1]"
   ]
  },
  {
   "cell_type": "code",
   "execution_count": 39,
   "metadata": {},
   "outputs": [],
   "source": [
    "sm = SMOTE(random_state=seed)\n",
    "\n",
    "res_x, res_y = sm.fit_resample(train_x, train_y) ### Resample training set"
   ]
  },
  {
   "cell_type": "code",
   "execution_count": 41,
   "metadata": {},
   "outputs": [
    {
     "data": {
      "image/png": "[encoded data removed]",
      "text/plain": [
       "<Figure size 432x288 with 2 Axes>"
      ]
     },
     "metadata": {
      "needs_background": "light"
     },
     "output_type": "display_data"
    }
   ],
   "source": [
    "model = RandomForestClassifier().fit(res_x, res_y)\n",
    "\n",
    "probs = model.predict_proba(test_x)\n",
    "preds = probs[:,1]\n",
    "\n",
    "class_names = ['Not Low Glucose', 'Low Glucose']\n",
    "disp = plot_confusion_matrix(model, \n",
    "                             test_x, \n",
    "                             test_y,\n",
    "                             display_labels=class_names,\n",
    "                             cmap=plt.cm.Blues)"
   ]
  },
  {
   "cell_type": "code",
   "execution_count": 49,
   "metadata": {},
   "outputs": [
    {
     "name": "stdout",
     "output_type": "stream",
     "text": [
      "True Positive Rate: 0.76\n",
      "True Negative Rate: 0.95\n",
      "False Positive Rate: 0.05\n",
      "False Negative Rate: 0.24\n"
     ]
    }
   ],
   "source": [
    "print( 'True Positive Rate: {:.2f}'.format(276 / (86 + 276)) )\n",
    "print( 'True Negative Rate: {:.2f}'.format(4773 / (4773 + 234)) )\n",
    "print( 'False Positive Rate: {:.2f}'.format(234 / (234 + 4773)) )\n",
    "print( 'False Negative Rate: {:.2f}'.format(86 / (86 + 276)) )"
   ]
  },
  {
   "cell_type": "code",
   "execution_count": 62,
   "metadata": {},
   "outputs": [],
   "source": [
    "low = df[df['Low'] == 1.0]\n",
    "not_low = df[df['Low'] == 0.0].sample(n = low.shape[0], random_state=seed)\n",
    "\n",
    "df_us = low.append(not_low)"
   ]
  },
  {
   "cell_type": "code",
   "execution_count": 68,
   "metadata": {},
   "outputs": [],
   "source": [
    "train, test = train_test_split(df_us, test_size=0.2, random_state=seed)\n",
    "train_x = train.iloc[:,0:-1]\n",
    "test_x = test.iloc[:,0:-1]\n",
    "\n",
    "train_y = train.iloc[:,-1]\n",
    "test_y = test.iloc[:,-1]"
   ]
  },
  {
   "cell_type": "code",
   "execution_count": 69,
   "metadata": {},
   "outputs": [
    {
     "data": {
      "image/png": "[encoded data removed]",
      "text/plain": [
       "<Figure size 432x288 with 2 Axes>"
      ]
     },
     "metadata": {
      "needs_background": "light"
     },
     "output_type": "display_data"
    }
   ],
   "source": [
    "model = RandomForestClassifier().fit(train_x, train_y)\n",
    "\n",
    "probs = model.predict_proba(test_x)\n",
    "preds = probs[:,1]\n",
    "\n",
    "class_names = ['Not Low Glucose', 'Low Glucose']\n",
    "disp = plot_confusion_matrix(model, \n",
    "                             test_x, \n",
    "                             test_y,\n",
    "                             display_labels=class_names,\n",
    "                             cmap=plt.cm.Blues)"
   ]
  },
  {
   "cell_type": "code",
   "execution_count": 74,
   "metadata": {},
   "outputs": [],
   "source": [
    "train, test = train_test_split(df, test_size=0.5, random_state=seed)\n",
    "train_x = train.iloc[:,0:-1]\n",
    "test_x = test.iloc[:,0:-1]\n",
    "\n",
    "train_y = train.iloc[:,-1]\n",
    "test_y = test.iloc[:,-1]"
   ]
  },
  {
   "cell_type": "code",
   "execution_count": 75,
   "metadata": {},
   "outputs": [
    {
     "data": {
      "image/png": "[encoded data removed]",
      "text/plain": [
       "<Figure size 432x288 with 2 Axes>"
      ]
     },
     "metadata": {
      "needs_background": "light"
     },
     "output_type": "display_data"
    }
   ],
   "source": [
    "probs = model.predict_proba(test_x)\n",
    "preds = probs[:,1]\n",
    "\n",
    "class_names = ['Not Low Glucose', 'Low Glucose']\n",
    "disp = plot_confusion_matrix(model, \n",
    "                             test_x, \n",
    "                             test_y,\n",
    "                             display_labels=class_names,\n",
    "                             cmap=plt.cm.Blues)"
   ]
  },
  {
   "cell_type": "code",
   "execution_count": null,
   "metadata": {},
   "outputs": [],
   "source": []
  }
 ],
 "metadata": {
  "kernelspec": {
   "display_name": "Python 3",
   "language": "python",
   "name": "python3"
  },
  "language_info": {
   "codemirror_mode": {
    "name": "ipython",
    "version": 3
   },
   "file_extension": ".py",
   "mimetype": "text/x-python",
   "name": "python",
   "nbconvert_exporter": "python",
   "pygments_lexer": "ipython3",
   "version": "3.7.6"
  }
 },
 "nbformat": 4,
 "nbformat_minor": 4
}
